{
 "cells": [
  {
   "cell_type": "code",
   "execution_count": 1,
   "id": "ec80d161",
   "metadata": {},
   "outputs": [],
   "source": [
    "from splinter import Browser\n",
    "from bs4 import BeautifulSoup as soup\n",
    "from webdriver_manager.chrome import ChromeDriverManager\n",
    "\n",
    "# Set up Splinter\n",
    "executable_path = {'executable_path': ChromeDriverManager().install()}\n",
    "browser = Browser('chrome', **executable_path, headless=False)\n",
    "\n",
    "# Visit the Mars Facts site\n",
    "url = 'https://redplanetscience.com/'\n",
    "browser.visit(url)\n",
    "\n",
    "html = browser.html\n",
    "new_soup = soup(html, 'html.parser')"
   ]
  },
  {
   "cell_type": "code",
   "execution_count": 2,
   "id": "330c1b58",
   "metadata": {},
   "outputs": [],
   "source": [
    "text =new_soup.find_all(\"div\", class_= \"list_text\")"
   ]
  },
  {
   "cell_type": "code",
   "execution_count": 4,
   "id": "f16fd39b",
   "metadata": {},
   "outputs": [
    {
     "name": "stdout",
     "output_type": "stream",
     "text": [
      "[<div class=\"list_text\">\n",
      "<div class=\"list_date\">November 22, 2022</div>\n",
      "<div class=\"content_title\">NASA's Briefcase-Size MarCO Satellite Picks Up Honors</div>\n",
      "<div class=\"article_teaser_body\">The twin spacecraft, the first of their kind to fly into deep space, earn a Laureate from Aviation Week &amp; Space Technology.</div>\n",
      "</div>, <div class=\"list_text\">\n",
      "<div class=\"list_date\">November 21, 2022</div>\n",
      "<div class=\"content_title\">NASA Updates Mars 2020 Mission Environmental Review</div>\n",
      "<div class=\"article_teaser_body\">NASA and the Department of Energy have completed a more detailed risk analysis for the Mars 2020 rover launch from Florida.</div>\n",
      "</div>, <div class=\"list_text\">\n",
      "<div class=\"list_date\">November 21, 2022</div>\n",
      "<div class=\"content_title\">NASA's Mars 2020 Rover Goes Coast-to-Coast to Prep for Launch</div>\n",
      "<div class=\"article_teaser_body\">The agency's first step in returning rocks from Mars just arrived at Kennedy Space Center. The Mars 2020 team now begins readying for a launch to the Red Planet this July.</div>\n",
      "</div>, <div class=\"list_text\">\n",
      "<div class=\"list_date\">November 18, 2022</div>\n",
      "<div class=\"content_title\">Mars 2020 Unwrapped and Ready for More Testing</div>\n",
      "<div class=\"article_teaser_body\">In time-lapse video, bunny-suited engineers remove the inner layer of protective foil on NASA's Mars 2020 rover after it was relocated for testing.</div>\n",
      "</div>, <div class=\"list_text\">\n",
      "<div class=\"list_date\">November 17, 2022</div>\n",
      "<div class=\"content_title\">InSight's 'Mole' Team Peers into the Pit</div>\n",
      "<div class=\"article_teaser_body\">Efforts to save the heat probe continue.</div>\n",
      "</div>, <div class=\"list_text\">\n",
      "<div class=\"list_date\">November 17, 2022</div>\n",
      "<div class=\"content_title\">NASA's Perseverance Rover Will Peer Beneath Mars' Surface </div>\n",
      "<div class=\"article_teaser_body\">The agency's newest rover will use the first ground-penetrating radar instrument on the Martian surface to help search for signs of past microbial life. </div>\n",
      "</div>, <div class=\"list_text\">\n",
      "<div class=\"list_date\">November 10, 2022</div>\n",
      "<div class=\"content_title\">NASA's Mars 2020 Rover Completes Its First Drive</div>\n",
      "<div class=\"article_teaser_body\">In a 10-plus-hour marathon, the rover steered, turned and drove in 3-foot (1-meter) increments over small ramps.</div>\n",
      "</div>, <div class=\"list_text\">\n",
      "<div class=\"list_date\">November 9, 2022</div>\n",
      "<div class=\"content_title\">NASA InSight's 'Mole' Is Out of Sight</div>\n",
      "<div class=\"article_teaser_body\">Now that the heat probe is just below the Martian surface, InSight's arm will scoop some additional soil on top to help it keep digging so it can take Mars' temperature.</div>\n",
      "</div>, <div class=\"list_text\">\n",
      "<div class=\"list_date\">November 7, 2022</div>\n",
      "<div class=\"content_title\">NASA's Mars Rover Drivers Need Your Help</div>\n",
      "<div class=\"article_teaser_body\">Using an online tool to label Martian terrain types, you can train an artificial intelligence algorithm that could improve the way engineers guide the Curiosity rover.</div>\n",
      "</div>, <div class=\"list_text\">\n",
      "<div class=\"list_date\">November 1, 2022</div>\n",
      "<div class=\"content_title\">Curiosity Mars Rover's Summer Road Trip Has Begun</div>\n",
      "<div class=\"article_teaser_body\">After more than a year in the \"clay-bearing unit,\" Curiosity is making a mile-long journey around some deep sand so that it can explore higher up Mount Sharp.</div>\n",
      "</div>, <div class=\"list_text\">\n",
      "<div class=\"list_date\">October 30, 2022</div>\n",
      "<div class=\"content_title\">7 Things to Know About the Mars 2020 Perseverance Rover Mission</div>\n",
      "<div class=\"article_teaser_body\">NASA's next rover to the Red Planet is slated to launch no earlier than July 30. These highlights will get you up to speed on the ambitious mission.</div>\n",
      "</div>, <div class=\"list_text\">\n",
      "<div class=\"list_date\">October 29, 2022</div>\n",
      "<div class=\"content_title\">NASA's Perseverance Mars Rover Gets Balanced</div>\n",
      "<div class=\"article_teaser_body\">The mission team performed a crucial weight-balancing test on the rover in preparation for this summer's history-making launch to the Red Planet.</div>\n",
      "</div>, <div class=\"list_text\">\n",
      "<div class=\"list_date\">October 25, 2022</div>\n",
      "<div class=\"content_title\">NASA's Mars 2020 Heads Into the Test Chamber</div>\n",
      "<div class=\"article_teaser_body\">In this time-lapse video taken at JPL, engineers move the Mars 2020 rover into a large vacuum chamber for testing in Mars-like environmental conditions.</div>\n",
      "</div>, <div class=\"list_text\">\n",
      "<div class=\"list_date\">October 24, 2022</div>\n",
      "<div class=\"content_title\">Mars 2020 Stands on Its Own Six Wheels</div>\n",
      "<div class=\"article_teaser_body\">In time-lapse video, taken at JPL, captures the first time NASA's Mars 2020 rover carries its full weight on its legs and wheels.</div>\n",
      "</div>, <div class=\"list_text\">\n",
      "<div class=\"list_date\">October 23, 2022</div>\n",
      "<div class=\"content_title\">Heat and Dust Help Launch Martian Water Into Space, Scientists Find</div>\n",
      "<div class=\"article_teaser_body\">Scientists using an instrument aboard NASA’s Mars Atmosphere and Volatile EvolutioN, or MAVEN, spacecraft have discovered that water vapor near the surface of the Red Planet is lofted higher into the atmosphere than anyone expected was possible. </div>\n",
      "</div>]\n"
     ]
    }
   ],
   "source": [
    "print(text)"
   ]
  },
  {
   "cell_type": "code",
   "execution_count": 5,
   "id": "473f8022",
   "metadata": {},
   "outputs": [],
   "source": [
    "text_list =[]\n"
   ]
  },
  {
   "cell_type": "code",
   "execution_count": 9,
   "id": "0dbf1384",
   "metadata": {},
   "outputs": [
    {
     "name": "stdout",
     "output_type": "stream",
     "text": [
      "[{'title': \"NASA's Briefcase-Size MarCO Satellite Picks Up Honors\", 'preview': 'The twin spacecraft, the first of their kind to fly into deep space, earn a Laureate from Aviation Week & Space Technology.'}, {'title': 'NASA Updates Mars 2020 Mission Environmental Review', 'preview': 'NASA and the Department of Energy have completed a more detailed risk analysis for the Mars 2020 rover launch from Florida.'}, {'title': \"NASA's Mars 2020 Rover Goes Coast-to-Coast to Prep for Launch\", 'preview': \"The agency's first step in returning rocks from Mars just arrived at Kennedy Space Center. The Mars 2020 team now begins readying for a launch to the Red Planet this July.\"}, {'title': 'Mars 2020 Unwrapped and Ready for More Testing', 'preview': \"In time-lapse video, bunny-suited engineers remove the inner layer of protective foil on NASA's Mars 2020 rover after it was relocated for testing.\"}, {'title': \"InSight's 'Mole' Team Peers into the Pit\", 'preview': 'Efforts to save the heat probe continue.'}, {'title': \"NASA's Perseverance Rover Will Peer Beneath Mars' Surface \", 'preview': \"The agency's newest rover will use the first ground-penetrating radar instrument on the Martian surface to help search for signs of past microbial life. \"}, {'title': \"NASA's Mars 2020 Rover Completes Its First Drive\", 'preview': 'In a 10-plus-hour marathon, the rover steered, turned and drove in 3-foot (1-meter) increments over small ramps.'}, {'title': \"NASA InSight's 'Mole' Is Out of Sight\", 'preview': \"Now that the heat probe is just below the Martian surface, InSight's arm will scoop some additional soil on top to help it keep digging so it can take Mars' temperature.\"}, {'title': \"NASA's Mars Rover Drivers Need Your Help\", 'preview': 'Using an online tool to label Martian terrain types, you can train an artificial intelligence algorithm that could improve the way engineers guide the Curiosity rover.'}, {'title': \"Curiosity Mars Rover's Summer Road Trip Has Begun\", 'preview': 'After more than a year in the \"clay-bearing unit,\" Curiosity is making a mile-long journey around some deep sand so that it can explore higher up Mount Sharp.'}, {'title': '7 Things to Know About the Mars 2020 Perseverance Rover Mission', 'preview': \"NASA's next rover to the Red Planet is slated to launch no earlier than July 30. These highlights will get you up to speed on the ambitious mission.\"}, {'title': \"NASA's Perseverance Mars Rover Gets Balanced\", 'preview': \"The mission team performed a crucial weight-balancing test on the rover in preparation for this summer's history-making launch to the Red Planet.\"}, {'title': \"NASA's Mars 2020 Heads Into the Test Chamber\", 'preview': 'In this time-lapse video taken at JPL, engineers move the Mars 2020 rover into a large vacuum chamber for testing in Mars-like environmental conditions.'}, {'title': 'Mars 2020 Stands on Its Own Six Wheels', 'preview': \"In time-lapse video, taken at JPL, captures the first time NASA's Mars 2020 rover carries its full weight on its legs and wheels.\"}, {'title': 'Heat and Dust Help Launch Martian Water Into Space, Scientists Find', 'preview': 'Scientists using an instrument aboard NASA’s Mars Atmosphere and Volatile EvolutioN, or MAVEN, spacecraft have discovered that water vapor near the surface of the Red Planet is lofted higher into the atmosphere than anyone expected was possible. '}, {'title': \"NASA's Briefcase-Size MarCO Satellite Picks Up Honors\", 'preview': 'The twin spacecraft, the first of their kind to fly into deep space, earn a Laureate from Aviation Week & Space Technology.'}, {'title': 'NASA Updates Mars 2020 Mission Environmental Review', 'preview': 'NASA and the Department of Energy have completed a more detailed risk analysis for the Mars 2020 rover launch from Florida.'}, {'title': \"NASA's Mars 2020 Rover Goes Coast-to-Coast to Prep for Launch\", 'preview': \"The agency's first step in returning rocks from Mars just arrived at Kennedy Space Center. The Mars 2020 team now begins readying for a launch to the Red Planet this July.\"}, {'title': 'Mars 2020 Unwrapped and Ready for More Testing', 'preview': \"In time-lapse video, bunny-suited engineers remove the inner layer of protective foil on NASA's Mars 2020 rover after it was relocated for testing.\"}, {'title': \"InSight's 'Mole' Team Peers into the Pit\", 'preview': 'Efforts to save the heat probe continue.'}, {'title': \"NASA's Perseverance Rover Will Peer Beneath Mars' Surface \", 'preview': \"The agency's newest rover will use the first ground-penetrating radar instrument on the Martian surface to help search for signs of past microbial life. \"}, {'title': \"NASA's Mars 2020 Rover Completes Its First Drive\", 'preview': 'In a 10-plus-hour marathon, the rover steered, turned and drove in 3-foot (1-meter) increments over small ramps.'}, {'title': \"NASA InSight's 'Mole' Is Out of Sight\", 'preview': \"Now that the heat probe is just below the Martian surface, InSight's arm will scoop some additional soil on top to help it keep digging so it can take Mars' temperature.\"}, {'title': \"NASA's Mars Rover Drivers Need Your Help\", 'preview': 'Using an online tool to label Martian terrain types, you can train an artificial intelligence algorithm that could improve the way engineers guide the Curiosity rover.'}, {'title': \"Curiosity Mars Rover's Summer Road Trip Has Begun\", 'preview': 'After more than a year in the \"clay-bearing unit,\" Curiosity is making a mile-long journey around some deep sand so that it can explore higher up Mount Sharp.'}, {'title': '7 Things to Know About the Mars 2020 Perseverance Rover Mission', 'preview': \"NASA's next rover to the Red Planet is slated to launch no earlier than July 30. These highlights will get you up to speed on the ambitious mission.\"}, {'title': \"NASA's Perseverance Mars Rover Gets Balanced\", 'preview': \"The mission team performed a crucial weight-balancing test on the rover in preparation for this summer's history-making launch to the Red Planet.\"}, {'title': \"NASA's Mars 2020 Heads Into the Test Chamber\", 'preview': 'In this time-lapse video taken at JPL, engineers move the Mars 2020 rover into a large vacuum chamber for testing in Mars-like environmental conditions.'}, {'title': 'Mars 2020 Stands on Its Own Six Wheels', 'preview': \"In time-lapse video, taken at JPL, captures the first time NASA's Mars 2020 rover carries its full weight on its legs and wheels.\"}, {'title': 'Heat and Dust Help Launch Martian Water Into Space, Scientists Find', 'preview': 'Scientists using an instrument aboard NASA’s Mars Atmosphere and Volatile EvolutioN, or MAVEN, spacecraft have discovered that water vapor near the surface of the Red Planet is lofted higher into the atmosphere than anyone expected was possible. '}]\n"
     ]
    }
   ],
   "source": [
    "for info in text:\n",
    "    title =info.find(\"div\", class_=\"content_title\").text\n",
    "    preview = info.find(\"div\", class_=\"article_teaser_body\").text\n",
    "    text_dict={}\n",
    "    text_dict['title']= title\n",
    "    text_dict['preview']= preview\n",
    "    text_list.append(text_dict)\n",
    "\n",
    "\n",
    "print(text_list)"
   ]
  },
  {
   "cell_type": "code",
   "execution_count": null,
   "id": "95ada9a1",
   "metadata": {},
   "outputs": [],
   "source": []
  }
 ],
 "metadata": {
  "kernelspec": {
   "display_name": "PythonData",
   "language": "python",
   "name": "pythondata"
  },
  "language_info": {
   "codemirror_mode": {
    "name": "ipython",
    "version": 3
   },
   "file_extension": ".py",
   "mimetype": "text/x-python",
   "name": "python",
   "nbconvert_exporter": "python",
   "pygments_lexer": "ipython3",
   "version": "3.9.13"
  }
 },
 "nbformat": 4,
 "nbformat_minor": 5
}
